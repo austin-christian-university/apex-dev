{
 "cells": [
  {
   "cell_type": "markdown",
   "metadata": {},
   "source": [
    "# Generate Dummy Event Submissions\n",
    "This notebook generates 1–10 dummy `event_submissions` per non-GPA subcategory for all students."
   ]
  },
  {
   "cell_type": "code",
   "execution_count": null,
   "metadata": {
    "tags": [
     "export"
    ]
   },
   "outputs": [
    {
     "name": "stderr",
     "output_type": "stream",
     "text": [
      "/var/folders/d7/6z97jd4151v1gx2srcw4n0740000gp/T/ipykernel_98097/947617312.py:108: DeprecationWarning: datetime.datetime.utcnow() is deprecated and scheduled for removal in a future version. Use timezone-aware objects to represent datetimes in UTC: datetime.datetime.now(datetime.UTC).\n",
      "  'submitted_at': dt.datetime.utcnow().isoformat(),\n"
     ]
    },
    {
     "data": {
      "text/plain": [
       "{'students': 22, 'subcategories': 17}"
      ]
     },
     "execution_count": 3,
     "metadata": {},
     "output_type": "execute_result"
    }
   ],
   "source": [
    "from __future__ import annotations\n",
    "import os, random, datetime as dt\n",
    "from typing import Any, Dict, List\n",
    "from dotenv import load_dotenv\n",
    "load_dotenv()\n",
    "from supabase import Client\n",
    "\n",
    "# Configure Supabase client\n",
    "SUPABASE_URL = os.getenv('SUPABASE_URL') or os.getenv('NEXT_PUBLIC_SUPABASE_URL')\n",
    "SUPABASE_KEY = os.getenv('SUPABASE_SERVICE_ROLE_KEY') or os.getenv('SUPABASE_ANON_KEY')\n",
    "if not SUPABASE_URL or not SUPABASE_KEY:\n",
    "    raise RuntimeError('Missing Supabase credentials; set SUPABASE_URL and SUPABASE_SERVICE_ROLE_KEY')\n",
    "sb = Client(SUPABASE_URL, SUPABASE_KEY)\n",
    "\n",
    "# GPA subcategories to skip normalization generation\n",
    "GPA_SUBCATEGORY_IDS = {\n",
    "    'f50830fe-b820-4223-89e2-e69241b459af',\n",
    "    '8d13f1b9-33e1-4a62-be45-488a6834112f',\n",
    "    'd1d972a4-2484-4b9a-a53c-0b63bb2e952c',\n",
    "}\n",
    "\n",
    "def fetch_students() -> List[Dict[str, Any]]:\n",
    "    return sb.table('students').select('id').execute().data or []\n",
    "\n",
    "def fetch_subcategories() -> List[Dict[str, Any]]:\n",
    "    return sb.table('subcategories').select('id,name').execute().data or []\n",
    "\n",
    "def fetch_events_by_subcategory() -> Dict[str, List[str]]:\n",
    "    rows = sb.table('event_instances').select('id, subcategory_id, is_active').eq('is_active', True).execute().data or []\n",
    "    by_sub: Dict[str, List[str]] = {}\n",
    "    for r in rows:\n",
    "        sid = r.get('subcategory_id')\n",
    "        if not sid:\n",
    "            continue\n",
    "        by_sub.setdefault(sid, []).append(r['id'])\n",
    "    return by_sub\n",
    "\n",
    "# Payload generators aligned with packages/types/src/event-submissions.ts\n",
    "def gen_attendance():\n",
    "    return { 'submission_type': 'attendance', 'status': random.choice(['present','absent','excused']), 'notes': 'auto-attendance' }\n",
    "\n",
    "def gen_monthly_check(sub: str):\n",
    "    return { 'submission_type': sub, 'status': random.choice(['involved','not_involved']), 'notes': f'auto-{sub}' }\n",
    "\n",
    "def gen_community_service():\n",
    "    return { 'submission_type': 'community_service', 'hours': random.randint(1,6), 'organization': 'Community Org', 'supervisor_name': 'Jane Doe', 'supervisor_contact': 'jane@example.com', 'description': 'Volunteer task', 'date_of_service': dt.date.today().isoformat(), 'notes': 'auto-service' }\n",
    "\n",
    "def gen_credentials():\n",
    "    return { 'submission_type': 'credentials', 'credential_name': 'Cert X', 'granting_organization': 'Org Y', 'description': 'Awarded', 'date_of_credential': dt.date.today().isoformat(), 'assigned_points': random.randint(5,30), 'notes': 'auto-credential' }\n",
    "\n",
    "def gen_job_promotion():\n",
    "    return { 'submission_type': 'job_promotion', 'promotion_title': 'Assistant → Senior', 'organization': 'ACU Blueprint', 'supervisor_name': 'John Doe', 'supervisor_contact': 'john@example.com', 'description': 'Promoted', 'date_of_promotion': dt.date.today().isoformat(), 'assigned_points': random.randint(10,50), 'notes': 'auto-promotion' }\n",
    "\n",
    "def gen_participation_points():\n",
    "    return { 'submission_type': 'participation', 'points': random.randint(1,5), 'notes': 'auto-points' }\n",
    "\n",
    "def gen_lions_games():\n",
    "    return { 'submission_type': 'lions_games', 'assigned_points': random.randint(1,10), 'notes': 'auto-lions' }\n",
    "\n",
    "# Map subcategory names to generators\n",
    "GEN_MAP = {\n",
    "  'fellow_friday_attendance': gen_attendance,\n",
    "  'gbe_attendance': gen_attendance,\n",
    "  'chapel_attendance': gen_attendance,\n",
    "  'small_group_involvement': lambda: gen_monthly_check('small_group'),\n",
    "  'dream_team_involvement': lambda: gen_monthly_check('dream_team'),\n",
    "  'community_service_hours': gen_community_service,\n",
    "  'credentials_certifications': gen_credentials,\n",
    "  'job_promotion_opportunities': gen_job_promotion,\n",
    "  'chapel_participation': gen_participation_points,\n",
    "  'company_team_building': gen_participation_points,\n",
    "  'fellow_friday_participation': gen_participation_points,\n",
    "  'gbe_participation': gen_participation_points,\n",
    "  'lions_games_involvement': gen_lions_games,\n",
    "}\n",
    "\n",
    "def generate_for_student(student_id: str, sub_by_events: Dict[str, List[str]], sub_list: List[Dict[str, Any]]):\n",
    "    # Seed used event_ids for this student to enforce uniqueness (student_id, event_id)\n",
    "    used_resp = sb.table('event_submissions').select('event_id').eq('student_id', student_id).execute()\n",
    "    used_event_ids = {r['event_id'] for r in (used_resp.data or []) if r.get('event_id')}\n",
    "\n",
    "    for sub in sub_list:\n",
    "        sid, name = sub['id'], sub['name']\n",
    "        if sid in GPA_SUBCATEGORY_IDS:\n",
    "            continue\n",
    "        gen = GEN_MAP.get(name)\n",
    "        if not gen:\n",
    "            continue\n",
    "        base_events = list(sub_by_events.get(sid) or [])\n",
    "        # Remove already-used events for this student\n",
    "        available = [e for e in base_events if e not in used_event_ids]\n",
    "        if not available:\n",
    "            continue\n",
    "        random.shuffle(available)\n",
    "        # Choose up to remaining capacity\n",
    "        max_new = min(len(available), random.randint(1, 10))\n",
    "        take = available[:max_new]\n",
    "        for event_id in take:\n",
    "            payload = gen()\n",
    "            sb.table('event_submissions').insert({\n",
    "                'event_id': event_id,\n",
    "                'student_id': student_id,\n",
    "                'submitted_by': student_id,\n",
    "                'submission_data': payload,\n",
    "                'submitted_at': dt.datetime.utcnow().isoformat(),\n",
    "                'subcategory_id': sid,\n",
    "                'needs_approval': False,\n",
    "                'approval_status': 'approved'\n",
    "            }).execute()\n",
    "            used_event_ids.add(event_id)\n",
    "\n",
    "def run():\n",
    "    students = fetch_students()\n",
    "    sub_list = fetch_subcategories()\n",
    "    events_by_sub = fetch_events_by_subcategory()\n",
    "    for s in students:\n",
    "        generate_for_student(s['id'], events_by_sub, sub_list)\n",
    "    return {'students': len(students), 'subcategories': len(sub_list)}\n",
    "\n",
    "run()\n"
   ]
  },
  {
   "cell_type": "markdown",
   "id": "c975066a",
   "metadata": {},
   "source": []
  }
 ],
 "metadata": {
  "kernelspec": {
   "display_name": "venv",
   "language": "python",
   "name": "python3"
  },
  "language_info": {
   "codemirror_mode": {
    "name": "ipython",
    "version": 3
   },
   "file_extension": ".py",
   "mimetype": "text/x-python",
   "name": "python",
   "nbconvert_exporter": "python",
   "pygments_lexer": "ipython3",
   "version": "3.12.0"
  }
 },
 "nbformat": 4,
 "nbformat_minor": 5
}
