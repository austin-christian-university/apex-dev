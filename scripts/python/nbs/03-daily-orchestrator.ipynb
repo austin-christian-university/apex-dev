{
  "cells": [
    {
      "cell_type": "markdown",
      "metadata": {},
      "source": [
        "# Daily Orchestrator (nbdev)\n",
        "\n",
        "Use this notebook to orchestrate runs and visualize summary data. Import from `apex_scoring/*` to avoid divergence.\n"
      ]
    },
    {
      "cell_type": "code",
      "execution_count": null,
      "metadata": {},
      "outputs": [],
      "source": [
        "# Example usage (not exported)\n",
        "from dotenv import load_dotenv; load_dotenv()\n",
        "import os\n",
        "from datetime import date\n",
        "\n",
        "from apex_scoring.bell_curve import BellCurveCalculator\n",
        "from daily_score_calculation import DailyScoreCalculator\n",
        "\n",
        "calc = DailyScoreCalculator(os.environ.get('NEXT_PUBLIC_SUPABASE_URL'), os.environ.get('SUPABASE_SERVICE_ROLE_KEY'))\n",
        "# results = await calc.run_daily_calculation(academic_year=2025, calculation_date=date.today(), dry_run=True)\n",
        "# results\n"
      ]
    }
  ],
  "metadata": {
    "language_info": {
      "name": "python"
    }
  },
  "nbformat": 4,
  "nbformat_minor": 2
}
